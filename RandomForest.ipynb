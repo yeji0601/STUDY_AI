{
 "cells": [
  {
   "cell_type": "code",
   "execution_count": 168,
   "id": "25e13b87",
   "metadata": {},
   "outputs": [
    {
     "data": {
      "text/plain": [
       "0.896"
      ]
     },
     "execution_count": 168,
     "metadata": {},
     "output_type": "execute_result"
    }
   ],
   "source": [
    "#Random Forest 에서 tree의 개수를 50, 100, 200 으로 변화하여 테스트 셋의 정확도를 출력\n",
    "from sklearn.model_selection import train_test_split\n",
    "from sklearn.datasets import make_moons\n",
    "from sklearn.metrics import accuracy_score\n",
    "from sklearn.ensemble import RandomForestClassifier\n",
    "\n",
    "#tree의 개수를 50으로 설정\n",
    "\n",
    "X,y = make_moons(n_samples=500, noise=0.30, random_state=3) #데이터 생성\n",
    "X_train, X_test, y_train, y_test = train_test_split(X,y, random_state=42)\n",
    "rnd_clf_50 = RandomForestClassifier(n_estimators=50, max_leaf_nodes=16, n_jobs=-1)\n",
    "rnd_clf_50.fit(X_train, y_train)\n",
    "y_pred_rf_50 = rnd_clf_50.predict(X_test)\n",
    "accuracy_score(y_test,y_pred_rf_50)"
   ]
  },
  {
   "cell_type": "code",
   "execution_count": 169,
   "id": "ded0f5cd",
   "metadata": {},
   "outputs": [
    {
     "data": {
      "text/plain": [
       "0.912"
      ]
     },
     "execution_count": 169,
     "metadata": {},
     "output_type": "execute_result"
    }
   ],
   "source": [
    "#tree의 개수를 100으로 설정\n",
    "\n",
    "rnd_clf_100 = RandomForestClassifier(n_estimators=100, max_leaf_nodes=16, n_jobs=-1)\n",
    "rnd_clf_100.fit(X_train, y_train)\n",
    "y_pred_rf_100 = rnd_clf_100.predict(X_test)\n",
    "accuracy_score(y_test,y_pred_rf_100)"
   ]
  },
  {
   "cell_type": "code",
   "execution_count": 170,
   "id": "cb0784ed",
   "metadata": {},
   "outputs": [
    {
     "data": {
      "text/plain": [
       "0.904"
      ]
     },
     "execution_count": 170,
     "metadata": {},
     "output_type": "execute_result"
    }
   ],
   "source": [
    "#tree의 개수를 200으로 설정\n",
    "\n",
    "rnd_clf_200 = RandomForestClassifier(n_estimators=200, max_leaf_nodes=16, n_jobs=-1)\n",
    "rnd_clf_200.fit(X_train, y_train)\n",
    "y_pred_rf_200 = rnd_clf_200.predict(X_test)\n",
    "accuracy_score(y_test,y_pred_rf_200)"
   ]
  },
  {
   "cell_type": "code",
   "execution_count": null,
   "id": "2a36a153",
   "metadata": {},
   "outputs": [],
   "source": []
  }
 ],
 "metadata": {
  "kernelspec": {
   "display_name": "Python 3",
   "language": "python",
   "name": "python3"
  },
  "language_info": {
   "codemirror_mode": {
    "name": "ipython",
    "version": 3
   },
   "file_extension": ".py",
   "mimetype": "text/x-python",
   "name": "python",
   "nbconvert_exporter": "python",
   "pygments_lexer": "ipython3",
   "version": "3.7.9"
  }
 },
 "nbformat": 4,
 "nbformat_minor": 5
}
